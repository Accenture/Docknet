{
 "cells": [
  {
   "cell_type": "code",
   "execution_count": null,
   "metadata": {},
   "outputs": [],
   "source": [
    "import os\n",
    "import sys\n",
    "\n",
    "# Add ../src to the list of available Python packages\n",
    "module_path = os.path.abspath(os.path.join('..', 'src'))\n",
    "if module_path not in sys.path:\n",
    "    sys.path.insert(0, module_path)"
   ]
  },
  {
   "cell_type": "code",
   "execution_count": null,
   "metadata": {},
   "outputs": [],
   "source": [
    "import numpy as np\n",
    "from sklearn import metrics\n",
    "import matplotlib.pyplot as plt\n",
    "\n",
    "from docknet.net import Docknet\n",
    "from docknet.data_generator.island_data_generator import IslandDataGenerator\n",
    "from docknet.initializer.random_normal_initializer import RandomNormalInitializer\n",
    "from docknet.optimizer.gradient_descent_optimizer import GradientDescentOptimizer\n",
    "from docknet.optimizer.adam_optimizer import AdamOptimizer"
   ]
  },
  {
   "cell_type": "code",
   "execution_count": null,
   "metadata": {},
   "outputs": [],
   "source": [
    "def scatterplot(axe, X, Y, title, files, rows, index, x0_range, x1_range):\n",
    "    axe.scatter(X[0, :], X[1, :], c=Y[0:], s=2)\n",
    "    aspect = (x0_range[1] - x0_range[0]) / (x1_range[1] - x1_range[0])\n",
    "    axe.set_aspect(aspect)\n",
    "    axe.set_title(title)\n",
    "    axe.set_xlim(x0_range)\n",
    "    axe.set_ylim(x1_range)\n",
    "    axe.set_xlabel('x0')\n",
    "    axe.set_ylabel('x1')"
   ]
  },
  {
   "cell_type": "code",
   "execution_count": null,
   "metadata": {},
   "outputs": [],
   "source": [
    "train_size = 2000\n",
    "test_size = 400\n",
    "x0_range = (-5., 5.)\n",
    "x1_range = (-5., 5.)"
   ]
  },
  {
   "cell_type": "code",
   "execution_count": null,
   "metadata": {},
   "outputs": [],
   "source": [
    "data_generator = IslandDataGenerator(x0_range, x1_range)\n",
    "X_train, Y_train = data_generator.generate_balanced_shuffled_sample(train_size)\n",
    "X_test, Y_test = data_generator.generate_balanced_shuffled_sample(test_size)"
   ]
  },
  {
   "cell_type": "code",
   "execution_count": null,
   "metadata": {},
   "outputs": [],
   "source": [
    "plt.rcParams['figure.figsize'] = [14, 7]\n",
    "f, axes = plt.subplots(nrows=1, ncols=2)\n",
    "scatterplot(axes[0], X_train, Y_train, 'Trainset', 1, 2, 1, x0_range, x1_range)\n",
    "scatterplot(axes[1], X_test, Y_test, 'Testset', 1, 2, 2, x0_range, x1_range)\n",
    "plt.show()"
   ]
  },
  {
   "cell_type": "code",
   "execution_count": null,
   "metadata": {},
   "outputs": [],
   "source": [
    "docknet = Docknet()\n",
    "docknet.add_input_layer(2)\n",
    "docknet.add_dense_layer(3, 'relu')\n",
    "docknet.add_dense_layer(1, 'sigmoid')\n",
    "docknet.initializer = RandomNormalInitializer()\n",
    "docknet.cost_function = 'cross_entropy'\n",
    "docknet.optimizer = AdamOptimizer()"
   ]
  },
  {
   "cell_type": "code",
   "execution_count": null,
   "metadata": {},
   "outputs": [],
   "source": [
    "np.random.seed(1)\n",
    "epochs = 200\n",
    "batch_size = round(train_size / 10.)\n",
    "epoch_errors, iteration_errors = docknet.train(X_train, Y_train, batch_size, max_number_of_epochs=epochs)"
   ]
  },
  {
   "cell_type": "code",
   "execution_count": null,
   "metadata": {},
   "outputs": [],
   "source": [
    "plt.subplot(1, 2, 1)\n",
    "plt.plot(epoch_errors)\n",
    "plt.xlabel('epoch')\n",
    "plt.ylabel('loss')\n",
    "plt.title('Loss evolution')\n",
    "plt.subplot(1, 2, 2)\n",
    "plt.plot(iteration_errors)\n",
    "plt.xlabel('iteration')\n",
    "plt.ylabel('loss')\n",
    "plt.title('Loss evolution')\n",
    "plt.show()"
   ]
  },
  {
   "cell_type": "code",
   "execution_count": null,
   "metadata": {},
   "outputs": [],
   "source": [
    "Y_predicted = docknet.predict(X_test)\n",
    "Y_predicted = np.round(Y_predicted)\n",
    "correct = Y_predicted == Y_test\n",
    "wrong = Y_predicted != Y_test\n",
    "X_correct = X_test[:, correct.reshape(test_size)]\n",
    "Y_correct = Y_test[correct]\n",
    "X_wrong = X_test[:, wrong.reshape(test_size)]\n",
    "Y_wrong = Y_test[wrong]"
   ]
  },
  {
   "cell_type": "code",
   "execution_count": null,
   "metadata": {},
   "outputs": [],
   "source": [
    "plt.rcParams['figure.figsize'] = [20, 10]\n",
    "f, axes = plt.subplots(nrows=1, ncols=3)\n",
    "scatterplot(axes[0], X_test, Y_test, 'Expected', 1, 3, 1, x0_range, x1_range)\n",
    "scatterplot(axes[1], X_correct, Y_correct, 'Actual correct', 1, 3, 2, x0_range, x1_range)\n",
    "scatterplot(axes[2], X_wrong, Y_wrong, 'Actual wrong', 1, 3, 3, x0_range, x1_range)\n",
    "plt.show()"
   ]
  },
  {
   "cell_type": "code",
   "execution_count": null,
   "metadata": {},
   "outputs": [],
   "source": [
    "results = metrics.classification_report(Y_test[0], Y_predicted[0])\n",
    "print(results)"
   ]
  },
  {
   "cell_type": "code",
   "execution_count": null,
   "metadata": {},
   "outputs": [],
   "source": [
    "conf_matrix = metrics.confusion_matrix(Y_test[0], Y_predicted[0])\n",
    "print(conf_matrix)"
   ]
  },
  {
   "cell_type": "code",
   "execution_count": null,
   "metadata": {},
   "outputs": [],
   "source": []
  }
 ],
 "metadata": {
  "kernelspec": {
   "display_name": "Python 3 (ipykernel)",
   "language": "python",
   "name": "python3"
  },
  "language_info": {
   "codemirror_mode": {
    "name": "ipython",
    "version": 3
   },
   "file_extension": ".py",
   "mimetype": "text/x-python",
   "name": "python",
   "nbconvert_exporter": "python",
   "pygments_lexer": "ipython3",
   "version": "3.8.12"
  }
 },
 "nbformat": 4,
 "nbformat_minor": 4
}
